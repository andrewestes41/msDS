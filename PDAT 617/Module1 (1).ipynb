{
 "cells": [
  {
   "cell_type": "code",
   "execution_count": 6,
   "id": "80aa44f3",
   "metadata": {},
   "outputs": [
    {
     "name": "stdout",
     "output_type": "stream",
     "text": [
      "<class 'numpy.ndarray'>\n",
      "<class 'numpy.ndarray'>\n",
      "<class 'numpy.ndarray'>\n"
     ]
    },
    {
     "ename": "NameError",
     "evalue": "name 'nbconvert' is not defined",
     "output_type": "error",
     "traceback": [
      "\u001b[1;31m---------------------------------------------------------------------------\u001b[0m",
      "\u001b[1;31mNameError\u001b[0m                                 Traceback (most recent call last)",
      "Input \u001b[1;32mIn [6]\u001b[0m, in \u001b[0;36m<cell line: 25>\u001b[1;34m()\u001b[0m\n\u001b[0;32m     18\u001b[0m \u001b[38;5;28mprint\u001b[39m(\u001b[38;5;28mtype\u001b[39m(listArray))\n\u001b[0;32m     20\u001b[0m \u001b[38;5;66;03m#Checking the output of the arrays\u001b[39;00m\n\u001b[0;32m     21\u001b[0m \u001b[38;5;66;03m#print(stringArray)\u001b[39;00m\n\u001b[0;32m     22\u001b[0m \u001b[38;5;66;03m#print(tupleArray)\u001b[39;00m\n\u001b[0;32m     23\u001b[0m \u001b[38;5;66;03m#print(listArray)\u001b[39;00m\n\u001b[1;32m---> 25\u001b[0m \u001b[43mnbconvert\u001b[49m[webpdf]\n",
      "\u001b[1;31mNameError\u001b[0m: name 'nbconvert' is not defined"
     ]
    }
   ],
   "source": [
    "stringExample = \"Monday, Tuesday, Wednesday, Thursday, Friday, Saturday, Sunday\"\n",
    "tupleExample = (\"Monday\", \"Tuesday\", \"Wednesday\", \"Thursday\", \"Friday\", \"Saturday\", \"Sunday\", 1, 2, 3, 4, 5, 6, 7)\n",
    "listExample = [\"Monday\", \"Tuesday\", \"Wednesday\", \"Thursday\", \"Friday\", \"Saturday\", \"Sunday\", 1, 2, 3, 4, 5, 6, 7]\n",
    "\n",
    "import numpy as np\n",
    "stringArray = np.array(stringExample)\n",
    "tupleArray = np.array(tupleExample)\n",
    "listArray = np.array(listExample)\n",
    "\n",
    "#Checking the original class type\n",
    "#print(type(stringExample))\n",
    "#print(type(tupleExample))\n",
    "#print(type(listExample))\n",
    "\n",
    "#Checking to see if the original classes were transformed into arrays\n",
    "print(type(stringArray))\n",
    "print(type(tupleArray))\n",
    "print(type(listArray))\n",
    "\n",
    "#Checking the output of the arrays\n",
    "#print(stringArray)\n",
    "#print(tupleArray)\n",
    "#print(listArray)\n",
    "\n",
    "#Strings and Tuples are immutable but I assume since they have the same basic basic anatomy of an array, they can be converted"
   ]
  },
  {
   "cell_type": "code",
   "execution_count": 5,
   "id": "eea25e56",
   "metadata": {},
   "outputs": [
    {
     "name": "stdout",
     "output_type": "stream",
     "text": [
      "Enter 1st number : 5\n",
      "\n",
      "Enter 2nd number : 8\n",
      "\n",
      "Enter 3rd number : 1\n",
      "\n",
      "B, 8 is largest number\n"
     ]
    }
   ],
   "source": [
    "#https://studyfied.com/program/python-basic/find-largest-number-using-if-else-statement/\n",
    "A = int(input(\"Enter 1st number : \"))\n",
    "B = int(input(\"\\nEnter 2nd number : \"))\n",
    "C = int(input(\"\\nEnter 3rd number : \"))\n",
    "\n",
    "#Logical test for numbers.\n",
    "if A >= B and A >= C :\n",
    "    print(\"\\n\" + \"A, \" + str(A), \"is largest number\")\n",
    "elif B >= C :\n",
    "    print(\"\\n\" + \"B, \" + str(B), \"is largest number\")\n",
    "else :\n",
    "    print(\"\\n\" + \"C, \"  + str(C), \"is largest number\")    "
   ]
  },
  {
   "cell_type": "code",
   "execution_count": null,
   "id": "cf462333",
   "metadata": {},
   "outputs": [],
   "source": []
  },
  {
   "cell_type": "code",
   "execution_count": null,
   "id": "57c75d09",
   "metadata": {},
   "outputs": [],
   "source": []
  }
 ],
 "metadata": {
  "kernelspec": {
   "display_name": "Python 3 (ipykernel)",
   "language": "python",
   "name": "python3"
  },
  "language_info": {
   "codemirror_mode": {
    "name": "ipython",
    "version": 3
   },
   "file_extension": ".py",
   "mimetype": "text/x-python",
   "name": "python",
   "nbconvert_exporter": "python",
   "pygments_lexer": "ipython3",
   "version": "3.9.12"
  }
 },
 "nbformat": 4,
 "nbformat_minor": 5
}
